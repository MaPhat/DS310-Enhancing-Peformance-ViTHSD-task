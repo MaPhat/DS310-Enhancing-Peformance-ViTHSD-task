{
 "cells": [
  {
   "cell_type": "code",
   "execution_count": 90,
   "metadata": {
    "execution": {
     "iopub.execute_input": "2024-12-11T10:37:24.121239Z",
     "iopub.status.busy": "2024-12-11T10:37:24.120830Z",
     "iopub.status.idle": "2024-12-11T10:37:32.333739Z",
     "shell.execute_reply": "2024-12-11T10:37:32.332542Z",
     "shell.execute_reply.started": "2024-12-11T10:37:24.121203Z"
    },
    "id": "Rz4GC0A6BKb2",
    "trusted": true
   },
   "outputs": [
    {
     "name": "stderr",
     "output_type": "stream",
     "text": [
      "/opt/conda/lib/python3.10/pty.py:89: RuntimeWarning: os.fork() was called. os.fork() is incompatible with multithreaded code, and JAX is multithreaded, so this will likely lead to a deadlock.\n",
      "  pid, fd = os.forkpty()\n"
     ]
    },
    {
     "name": "stdout",
     "output_type": "stream",
     "text": [
      "Requirement already satisfied: transformers in /opt/conda/lib/python3.10/site-packages (4.46.3)\n",
      "Requirement already satisfied: filelock in /opt/conda/lib/python3.10/site-packages (from transformers) (3.15.1)\n",
      "Requirement already satisfied: huggingface-hub<1.0,>=0.23.2 in /opt/conda/lib/python3.10/site-packages (from transformers) (0.26.2)\n",
      "Requirement already satisfied: numpy>=1.17 in /opt/conda/lib/python3.10/site-packages (from transformers) (1.26.4)\n",
      "Requirement already satisfied: packaging>=20.0 in /opt/conda/lib/python3.10/site-packages (from transformers) (21.3)\n",
      "Requirement already satisfied: pyyaml>=5.1 in /opt/conda/lib/python3.10/site-packages (from transformers) (6.0.2)\n",
      "Requirement already satisfied: regex!=2019.12.17 in /opt/conda/lib/python3.10/site-packages (from transformers) (2024.5.15)\n",
      "Requirement already satisfied: requests in /opt/conda/lib/python3.10/site-packages (from transformers) (2.32.3)\n",
      "Requirement already satisfied: tokenizers<0.21,>=0.20 in /opt/conda/lib/python3.10/site-packages (from transformers) (0.20.3)\n",
      "Requirement already satisfied: safetensors>=0.4.1 in /opt/conda/lib/python3.10/site-packages (from transformers) (0.4.5)\n",
      "Requirement already satisfied: tqdm>=4.27 in /opt/conda/lib/python3.10/site-packages (from transformers) (4.66.4)\n",
      "Requirement already satisfied: fsspec>=2023.5.0 in /opt/conda/lib/python3.10/site-packages (from huggingface-hub<1.0,>=0.23.2->transformers) (2024.6.0)\n",
      "Requirement already satisfied: typing-extensions>=3.7.4.3 in /opt/conda/lib/python3.10/site-packages (from huggingface-hub<1.0,>=0.23.2->transformers) (4.12.2)\n",
      "Requirement already satisfied: pyparsing!=3.0.5,>=2.0.2 in /opt/conda/lib/python3.10/site-packages (from packaging>=20.0->transformers) (3.1.2)\n",
      "Requirement already satisfied: charset-normalizer<4,>=2 in /opt/conda/lib/python3.10/site-packages (from requests->transformers) (3.3.2)\n",
      "Requirement already satisfied: idna<4,>=2.5 in /opt/conda/lib/python3.10/site-packages (from requests->transformers) (3.7)\n",
      "Requirement already satisfied: urllib3<3,>=1.21.1 in /opt/conda/lib/python3.10/site-packages (from requests->transformers) (1.26.18)\n",
      "Requirement already satisfied: certifi>=2017.4.17 in /opt/conda/lib/python3.10/site-packages (from requests->transformers) (2024.6.2)\n",
      "Note: you may need to restart the kernel to use updated packages.\n"
     ]
    }
   ],
   "source": [
    "pip install transformers"
   ]
  },
  {
   "cell_type": "code",
   "execution_count": 91,
   "metadata": {
    "execution": {
     "iopub.execute_input": "2024-12-11T10:37:32.336893Z",
     "iopub.status.busy": "2024-12-11T10:37:32.336038Z",
     "iopub.status.idle": "2024-12-11T10:37:40.497042Z",
     "shell.execute_reply": "2024-12-11T10:37:40.495850Z",
     "shell.execute_reply.started": "2024-12-11T10:37:32.336860Z"
    },
    "id": "J_t2yE7gBMnk",
    "trusted": true
   },
   "outputs": [
    {
     "name": "stdout",
     "output_type": "stream",
     "text": [
      "Requirement already satisfied: vncorenlp in /opt/conda/lib/python3.10/site-packages (1.0.3)\n",
      "Requirement already satisfied: requests in /opt/conda/lib/python3.10/site-packages (from vncorenlp) (2.32.3)\n",
      "Requirement already satisfied: charset-normalizer<4,>=2 in /opt/conda/lib/python3.10/site-packages (from requests->vncorenlp) (3.3.2)\n",
      "Requirement already satisfied: idna<4,>=2.5 in /opt/conda/lib/python3.10/site-packages (from requests->vncorenlp) (3.7)\n",
      "Requirement already satisfied: urllib3<3,>=1.21.1 in /opt/conda/lib/python3.10/site-packages (from requests->vncorenlp) (1.26.18)\n",
      "Requirement already satisfied: certifi>=2017.4.17 in /opt/conda/lib/python3.10/site-packages (from requests->vncorenlp) (2024.6.2)\n",
      "Note: you may need to restart the kernel to use updated packages.\n"
     ]
    }
   ],
   "source": [
    "pip install vncorenlp"
   ]
  },
  {
   "cell_type": "code",
   "execution_count": 92,
   "metadata": {
    "execution": {
     "iopub.execute_input": "2024-12-11T10:37:40.499066Z",
     "iopub.status.busy": "2024-12-11T10:37:40.498736Z",
     "iopub.status.idle": "2024-12-11T10:38:00.000879Z",
     "shell.execute_reply": "2024-12-11T10:37:59.999748Z",
     "shell.execute_reply.started": "2024-12-11T10:37:40.499035Z"
    },
    "id": "v2MHGmOWBNwT",
    "trusted": true
   },
   "outputs": [
    {
     "name": "stdout",
     "output_type": "stream",
     "text": [
      "--2024-12-11 10:37:42--  https://raw.githubusercontent.com/vncorenlp/VnCoreNLP/master/VnCoreNLP-1.1.1.jar\n",
      "Resolving raw.githubusercontent.com (raw.githubusercontent.com)... 185.199.109.133, 185.199.111.133, 185.199.110.133, ...\n",
      "Connecting to raw.githubusercontent.com (raw.githubusercontent.com)|185.199.109.133|:443... connected.\n",
      "HTTP request sent, awaiting response... 200 OK\n",
      "Length: 27412575 (26M) [application/octet-stream]\n",
      "Saving to: 'VnCoreNLP-1.1.1.jar'\n",
      "\n",
      "VnCoreNLP-1.1.1.jar 100%[===================>]  26.14M  --.-KB/s    in 0.09s   \n",
      "\n",
      "2024-12-11 10:37:42 (285 MB/s) - 'VnCoreNLP-1.1.1.jar' saved [27412575/27412575]\n",
      "\n",
      "--2024-12-11 10:37:44--  https://raw.githubusercontent.com/vncorenlp/VnCoreNLP/master/models/wordsegmenter/vi-vocab\n",
      "Resolving raw.githubusercontent.com (raw.githubusercontent.com)... 185.199.108.133, 185.199.110.133, 185.199.111.133, ...\n",
      "Connecting to raw.githubusercontent.com (raw.githubusercontent.com)|185.199.108.133|:443... connected.\n",
      "HTTP request sent, awaiting response... 200 OK\n",
      "Length: 526544 (514K) [application/octet-stream]\n",
      "Saving to: 'vi-vocab'\n",
      "\n",
      "vi-vocab            100%[===================>] 514.20K  --.-KB/s    in 0.01s   \n",
      "\n",
      "2024-12-11 10:37:45 (38.7 MB/s) - 'vi-vocab' saved [526544/526544]\n",
      "\n",
      "--2024-12-11 10:37:46--  https://raw.githubusercontent.com/vncorenlp/VnCoreNLP/master/models/wordsegmenter/wordsegmenter.rdr\n",
      "Resolving raw.githubusercontent.com (raw.githubusercontent.com)... 185.199.111.133, 185.199.109.133, 185.199.110.133, ...\n",
      "Connecting to raw.githubusercontent.com (raw.githubusercontent.com)|185.199.111.133|:443... connected.\n",
      "HTTP request sent, awaiting response... 200 OK\n",
      "Length: 128508 (125K) [text/plain]\n",
      "Saving to: 'wordsegmenter.rdr'\n",
      "\n",
      "wordsegmenter.rdr   100%[===================>] 125.50K  --.-KB/s    in 0.007s  \n",
      "\n",
      "2024-12-11 10:37:46 (16.7 MB/s) - 'wordsegmenter.rdr' saved [128508/128508]\n",
      "\n",
      "--2024-12-11 10:37:50--  https://raw.githubusercontent.com/vncorenlp/VnCoreNLP/master/models/postagger/vi-tagger\n",
      "Resolving raw.githubusercontent.com (raw.githubusercontent.com)... 185.199.108.133, 185.199.110.133, 185.199.111.133, ...\n",
      "Connecting to raw.githubusercontent.com (raw.githubusercontent.com)|185.199.108.133|:443... connected.\n",
      "HTTP request sent, awaiting response... 200 OK\n",
      "Length: 29709468 (28M) [application/octet-stream]\n",
      "Saving to: 'vi-tagger'\n",
      "\n",
      "vi-tagger           100%[===================>]  28.33M  --.-KB/s    in 0.08s   \n",
      "\n",
      "2024-12-11 10:37:50 (361 MB/s) - 'vi-tagger' saved [29709468/29709468]\n",
      "\n",
      "--2024-12-11 10:37:53--  https://raw.githubusercontent.com/vncorenlp/VnCoreNLP/master/models/ner/vi-500brownclusters.xz\n",
      "Resolving raw.githubusercontent.com (raw.githubusercontent.com)... 185.199.111.133, 185.199.108.133, 185.199.109.133, ...\n",
      "Connecting to raw.githubusercontent.com (raw.githubusercontent.com)|185.199.111.133|:443... connected.\n",
      "HTTP request sent, awaiting response... 200 OK\n",
      "Length: 5599844 (5.3M) [application/octet-stream]\n",
      "Saving to: 'vi-500brownclusters.xz'\n",
      "\n",
      "vi-500brownclusters 100%[===================>]   5.34M  --.-KB/s    in 0.03s   \n",
      "\n",
      "2024-12-11 10:37:54 (166 MB/s) - 'vi-500brownclusters.xz' saved [5599844/5599844]\n",
      "\n",
      "--2024-12-11 10:37:55--  https://raw.githubusercontent.com/vncorenlp/VnCoreNLP/master/models/ner/vi-ner.xz\n",
      "Resolving raw.githubusercontent.com (raw.githubusercontent.com)... 185.199.110.133, 185.199.108.133, 185.199.111.133, ...\n",
      "Connecting to raw.githubusercontent.com (raw.githubusercontent.com)|185.199.110.133|:443... connected.\n",
      "HTTP request sent, awaiting response... 200 OK\n",
      "Length: 9956876 (9.5M) [application/octet-stream]\n",
      "Saving to: 'vi-ner.xz'\n",
      "\n",
      "vi-ner.xz           100%[===================>]   9.50M  --.-KB/s    in 0.04s   \n",
      "\n",
      "2024-12-11 10:37:55 (217 MB/s) - 'vi-ner.xz' saved [9956876/9956876]\n",
      "\n",
      "--2024-12-11 10:37:56--  https://raw.githubusercontent.com/vncorenlp/VnCoreNLP/master/models/ner/vi-pretrainedembeddings.xz\n",
      "Resolving raw.githubusercontent.com (raw.githubusercontent.com)... 185.199.110.133, 185.199.111.133, 185.199.108.133, ...\n",
      "Connecting to raw.githubusercontent.com (raw.githubusercontent.com)|185.199.110.133|:443... connected.\n",
      "HTTP request sent, awaiting response... 200 OK\n",
      "Length: 57313672 (55M) [application/octet-stream]\n",
      "Saving to: 'vi-pretrainedembeddings.xz'\n",
      "\n",
      "vi-pretrainedembedd 100%[===================>]  54.66M  --.-KB/s    in 0.1s    \n",
      "\n",
      "2024-12-11 10:37:56 (409 MB/s) - 'vi-pretrainedembeddings.xz' saved [57313672/57313672]\n",
      "\n"
     ]
    }
   ],
   "source": [
    "!mkdir -p vncorenlp/models/wordsegmenter\n",
    "\n",
    "!wget https://raw.githubusercontent.com/vncorenlp/VnCoreNLP/master/VnCoreNLP-1.1.1.jar\n",
    "\n",
    "!mv VnCoreNLP-1.1.1.jar vncorenlp/\n",
    "\n",
    "\n",
    "\n",
    "!wget https://raw.githubusercontent.com/vncorenlp/VnCoreNLP/master/models/wordsegmenter/vi-vocab\n",
    "\n",
    "!wget https://raw.githubusercontent.com/vncorenlp/VnCoreNLP/master/models/wordsegmenter/wordsegmenter.rdr\n",
    "\n",
    "!mv vi-vocab vncorenlp/models/wordsegmenter/\n",
    "\n",
    "!mv wordsegmenter.rdr vncorenlp/models/wordsegmenter/\n",
    "\n",
    "\n",
    "\n",
    "\n",
    "\n",
    "!mkdir -p vncorenlp/models/postagger\n",
    "\n",
    "!wget https://raw.githubusercontent.com/vncorenlp/VnCoreNLP/master/models/postagger/vi-tagger\n",
    "\n",
    "!mv vi-tagger vncorenlp/models/postagger/\n",
    "\n",
    "\n",
    "\n",
    "\n",
    "\n",
    "!mkdir -p vncorenlp/models/ner\n",
    "\n",
    "!wget https://raw.githubusercontent.com/vncorenlp/VnCoreNLP/master/models/ner/vi-500brownclusters.xz\n",
    "\n",
    "!wget https://raw.githubusercontent.com/vncorenlp/VnCoreNLP/master/models/ner/vi-ner.xz\n",
    "\n",
    "!wget https://raw.githubusercontent.com/vncorenlp/VnCoreNLP/master/models/ner/vi-pretrainedembeddings.xz\n",
    "\n",
    "!mv vi-500brownclusters.xz vncorenlp/models/ner/\n",
    "\n",
    "!mv vi-ner.xz vncorenlp/models/ner/\n",
    "\n",
    "!mv vi-pretrainedembeddings.xz vncorenlp/models/ner/"
   ]
  },
  {
   "cell_type": "code",
   "execution_count": 93,
   "metadata": {
    "execution": {
     "iopub.execute_input": "2024-12-11T10:38:00.004573Z",
     "iopub.status.busy": "2024-12-11T10:38:00.004222Z",
     "iopub.status.idle": "2024-12-11T10:38:08.229757Z",
     "shell.execute_reply": "2024-12-11T10:38:08.228612Z",
     "shell.execute_reply.started": "2024-12-11T10:38:00.004536Z"
    },
    "id": "XX-tZNNBBOmo",
    "trusted": true
   },
   "outputs": [
    {
     "name": "stdout",
     "output_type": "stream",
     "text": [
      "Requirement already satisfied: keras in /opt/conda/lib/python3.10/site-packages (3.3.3)\n",
      "Requirement already satisfied: absl-py in /opt/conda/lib/python3.10/site-packages (from keras) (1.4.0)\n",
      "Requirement already satisfied: numpy in /opt/conda/lib/python3.10/site-packages (from keras) (1.26.4)\n",
      "Requirement already satisfied: rich in /opt/conda/lib/python3.10/site-packages (from keras) (13.7.1)\n",
      "Requirement already satisfied: namex in /opt/conda/lib/python3.10/site-packages (from keras) (0.0.8)\n",
      "Requirement already satisfied: h5py in /opt/conda/lib/python3.10/site-packages (from keras) (3.11.0)\n",
      "Requirement already satisfied: optree in /opt/conda/lib/python3.10/site-packages (from keras) (0.11.0)\n",
      "Requirement already satisfied: ml-dtypes in /opt/conda/lib/python3.10/site-packages (from keras) (0.3.2)\n",
      "Requirement already satisfied: typing-extensions>=4.0.0 in /opt/conda/lib/python3.10/site-packages (from optree->keras) (4.12.2)\n",
      "Requirement already satisfied: markdown-it-py>=2.2.0 in /opt/conda/lib/python3.10/site-packages (from rich->keras) (3.0.0)\n",
      "Requirement already satisfied: pygments<3.0.0,>=2.13.0 in /opt/conda/lib/python3.10/site-packages (from rich->keras) (2.18.0)\n",
      "Requirement already satisfied: mdurl~=0.1 in /opt/conda/lib/python3.10/site-packages (from markdown-it-py>=2.2.0->rich->keras) (0.1.2)\n",
      "Note: you may need to restart the kernel to use updated packages.\n"
     ]
    }
   ],
   "source": [
    "pip install keras"
   ]
  },
  {
   "cell_type": "code",
   "execution_count": 94,
   "metadata": {
    "execution": {
     "iopub.execute_input": "2024-12-11T10:38:08.231892Z",
     "iopub.status.busy": "2024-12-11T10:38:08.231467Z",
     "iopub.status.idle": "2024-12-11T10:38:16.543985Z",
     "shell.execute_reply": "2024-12-11T10:38:16.542872Z",
     "shell.execute_reply.started": "2024-12-11T10:38:08.231845Z"
    },
    "id": "wYGFpGi0BTDS",
    "trusted": true
   },
   "outputs": [
    {
     "name": "stdout",
     "output_type": "stream",
     "text": [
      "Requirement already satisfied: keras-preprocessing in /opt/conda/lib/python3.10/site-packages (1.1.2)\n",
      "Requirement already satisfied: numpy>=1.9.1 in /opt/conda/lib/python3.10/site-packages (from keras-preprocessing) (1.26.4)\n",
      "Requirement already satisfied: six>=1.9.0 in /opt/conda/lib/python3.10/site-packages (from keras-preprocessing) (1.16.0)\n",
      "Note: you may need to restart the kernel to use updated packages.\n"
     ]
    }
   ],
   "source": [
    "pip install keras-preprocessing\n"
   ]
  },
  {
   "cell_type": "code",
   "execution_count": 95,
   "metadata": {
    "execution": {
     "iopub.execute_input": "2024-12-11T10:38:16.546739Z",
     "iopub.status.busy": "2024-12-11T10:38:16.545809Z",
     "iopub.status.idle": "2024-12-11T10:38:16.550972Z",
     "shell.execute_reply": "2024-12-11T10:38:16.549985Z",
     "shell.execute_reply.started": "2024-12-11T10:38:16.546690Z"
    },
    "id": "W6UlK1qEBWGA",
    "trusted": true
   },
   "outputs": [],
   "source": [
    "VNCORE_NLP = False\n",
    "\n",
    "max_len = 50"
   ]
  },
  {
   "cell_type": "code",
   "execution_count": 96,
   "metadata": {
    "execution": {
     "iopub.execute_input": "2024-12-11T10:38:16.552579Z",
     "iopub.status.busy": "2024-12-11T10:38:16.552229Z",
     "iopub.status.idle": "2024-12-11T10:38:21.713086Z",
     "shell.execute_reply": "2024-12-11T10:38:21.712134Z",
     "shell.execute_reply.started": "2024-12-11T10:38:16.552533Z"
    },
    "id": "vkoM4U8rBXWS",
    "trusted": true
   },
   "outputs": [],
   "source": [
    "from vncorenlp import VnCoreNLP\n",
    "\n",
    "vncorenlp = VnCoreNLP(\"vncorenlp/VnCoreNLP-1.1.1.jar\", annotators=\"wseg\")"
   ]
  },
  {
   "cell_type": "code",
   "execution_count": 97,
   "metadata": {
    "execution": {
     "iopub.execute_input": "2024-12-11T10:38:21.714681Z",
     "iopub.status.busy": "2024-12-11T10:38:21.714323Z",
     "iopub.status.idle": "2024-12-11T10:38:21.719780Z",
     "shell.execute_reply": "2024-12-11T10:38:21.718822Z",
     "shell.execute_reply.started": "2024-12-11T10:38:21.714642Z"
    },
    "id": "1928DemhBYIF",
    "trusted": true
   },
   "outputs": [],
   "source": [
    "def tokennize_vn(text):\n",
    "\n",
    "    sentences = vncorenlp.tokenize(text)\n",
    "\n",
    "    s = ''\n",
    "\n",
    "    for t in sentences:\n",
    "\n",
    "        s = s + ' '.join(t) + ' '\n",
    "\n",
    "    return s"
   ]
  },
  {
   "cell_type": "code",
   "execution_count": 98,
   "metadata": {
    "execution": {
     "iopub.execute_input": "2024-12-11T10:38:21.721370Z",
     "iopub.status.busy": "2024-12-11T10:38:21.721038Z",
     "iopub.status.idle": "2024-12-11T10:38:21.732952Z",
     "shell.execute_reply": "2024-12-11T10:38:21.732210Z",
     "shell.execute_reply.started": "2024-12-11T10:38:21.721333Z"
    },
    "id": "b0HF-uyWBbKL",
    "trusted": true
   },
   "outputs": [],
   "source": [
    "train_dataset = '/kaggle/input/vithsd-norm/Train_normalize.csv'\n",
    "\n",
    "dev_dataset = '/kaggle/input/vithsd-aug-norm/Dev_normalize.csv'\n",
    "\n",
    "test_dataset = '/kaggle/input/vithsd-aug-norm/Test_normalize.csv'"
   ]
  },
  {
   "cell_type": "code",
   "execution_count": 99,
   "metadata": {
    "execution": {
     "iopub.execute_input": "2024-12-11T10:38:21.736138Z",
     "iopub.status.busy": "2024-12-11T10:38:21.735872Z",
     "iopub.status.idle": "2024-12-11T10:38:21.788332Z",
     "shell.execute_reply": "2024-12-11T10:38:21.787608Z",
     "shell.execute_reply.started": "2024-12-11T10:38:21.736101Z"
    },
    "id": "tFY8s2l9Bdtc",
    "trusted": true
   },
   "outputs": [],
   "source": [
    "import pandas as pd\n",
    "\n",
    "\n",
    "\n",
    "train = pd.read_csv(train_dataset)\n",
    "\n",
    "dev = pd.read_csv(dev_dataset)\n",
    "\n",
    "test = pd.read_csv(test_dataset)"
   ]
  },
  {
   "cell_type": "code",
   "execution_count": 100,
   "metadata": {
    "execution": {
     "iopub.execute_input": "2024-12-11T10:38:21.790248Z",
     "iopub.status.busy": "2024-12-11T10:38:21.789568Z",
     "iopub.status.idle": "2024-12-11T10:38:21.795485Z",
     "shell.execute_reply": "2024-12-11T10:38:21.794388Z",
     "shell.execute_reply.started": "2024-12-11T10:38:21.790204Z"
    },
    "trusted": true
   },
   "outputs": [],
   "source": [
    "import itertools\n",
    "\n",
    "\n",
    "\n",
    "aspect = list(train.columns.values[2:])\n",
    "\n",
    "sent = [1,2,3]\n",
    "\n",
    "\n",
    "\n",
    "itertools.product([aspect, sent])\n",
    "\n",
    "\n",
    "\n",
    "combined_label = [a for a in itertools.product(aspect, sent)]"
   ]
  },
  {
   "cell_type": "code",
   "execution_count": 101,
   "metadata": {
    "execution": {
     "iopub.execute_input": "2024-12-11T10:38:21.796984Z",
     "iopub.status.busy": "2024-12-11T10:38:21.796619Z",
     "iopub.status.idle": "2024-12-11T10:38:21.806459Z",
     "shell.execute_reply": "2024-12-11T10:38:21.805735Z",
     "shell.execute_reply.started": "2024-12-11T10:38:21.796940Z"
    },
    "id": "5K1229VeBk0v",
    "trusted": true
   },
   "outputs": [],
   "source": [
    "import numpy as np\n",
    "\n",
    "import pandas as pd\n",
    "\n",
    "\n",
    "\n",
    "def make_data(data):\n",
    "\n",
    "    content = []\n",
    "\n",
    "    label = []\n",
    "\n",
    "\n",
    "\n",
    "    for i in range(0, len(data)):\n",
    "\n",
    "        row = data.iloc[i]\n",
    "\n",
    "        if VNCORE_NLP:\n",
    "\n",
    "            content.append(tokennize_vn(str(row['content'])))\n",
    "\n",
    "        else:\n",
    "\n",
    "            content.append(row['content'])\n",
    "\n",
    "        default_lab = np.zeros(len(combined_label), dtype=int)\n",
    "\n",
    "        for j in range(0, len(combined_label)):\n",
    "\n",
    "            l = combined_label[j]\n",
    "\n",
    "            if row[l[0]] == l[1]:\n",
    "\n",
    "                default_lab[j] = 1\n",
    "\n",
    "        label.append(default_lab)\n",
    "\n",
    "\n",
    "\n",
    "    return pd.DataFrame({\n",
    "\n",
    "        'Content': content,\n",
    "\n",
    "        'Labels': label\n",
    "\n",
    "    })"
   ]
  },
  {
   "cell_type": "code",
   "execution_count": 102,
   "metadata": {
    "execution": {
     "iopub.execute_input": "2024-12-11T10:38:21.807684Z",
     "iopub.status.busy": "2024-12-11T10:38:21.807427Z",
     "iopub.status.idle": "2024-12-11T10:38:22.591089Z",
     "shell.execute_reply": "2024-12-11T10:38:22.590394Z",
     "shell.execute_reply.started": "2024-12-11T10:38:21.807657Z"
    },
    "id": "5-_bdnjZCC-u",
    "trusted": true
   },
   "outputs": [],
   "source": [
    "train_data = make_data(train)\n",
    "\n",
    "dev_data = make_data(dev)\n",
    "\n",
    "test_data = make_data(test)"
   ]
  },
  {
   "cell_type": "code",
   "execution_count": 103,
   "metadata": {
    "execution": {
     "iopub.execute_input": "2024-12-11T10:38:22.592768Z",
     "iopub.status.busy": "2024-12-11T10:38:22.592409Z",
     "iopub.status.idle": "2024-12-11T10:38:22.598941Z",
     "shell.execute_reply": "2024-12-11T10:38:22.598125Z",
     "shell.execute_reply.started": "2024-12-11T10:38:22.592734Z"
    },
    "id": "z6QJas9LCEKC",
    "trusted": true
   },
   "outputs": [],
   "source": [
    "train_data['Content'] = train_data['Content'].astype(str)\n",
    "dev_data['Content'] = dev_data['Content'].astype(str)\n",
    "test_data['Content'] = test_data['Content'].astype(str)\n"
   ]
  },
  {
   "cell_type": "code",
   "execution_count": 104,
   "metadata": {
    "execution": {
     "iopub.execute_input": "2024-12-11T10:38:22.600595Z",
     "iopub.status.busy": "2024-12-11T10:38:22.600264Z",
     "iopub.status.idle": "2024-12-11T10:38:22.715967Z",
     "shell.execute_reply": "2024-12-11T10:38:22.715367Z",
     "shell.execute_reply.started": "2024-12-11T10:38:22.600557Z"
    },
    "id": "yY3aPU3TCQpk",
    "trusted": true
   },
   "outputs": [],
   "source": [
    "from keras.preprocessing.sequence import pad_sequences\n",
    "from tensorflow.keras.utils import to_categorical\n",
    "\n",
    "from tensorflow.keras.preprocessing.text import Tokenizer\n",
    "\n",
    "\n",
    "\n",
    "tokenizer = Tokenizer()\n",
    "\n",
    "tokenizer.fit_on_texts(train_data['Content'])\n",
    "\n",
    "vocab_size = len(tokenizer.word_index) + 1\n",
    "\n",
    "\n",
    "\n",
    "def encoding(X, y):\n",
    "\n",
    "    X = tokenizer.texts_to_sequences(X.values.astype(str))\n",
    "\n",
    "    X = pad_sequences(X, maxlen=max_len, padding='post')\n",
    "\n",
    "    y = np.asarray([np.asarray(row, dtype=float) for row in y], dtype=int)\n",
    "\n",
    "    return (X,y)"
   ]
  },
  {
   "cell_type": "code",
   "execution_count": 105,
   "metadata": {
    "execution": {
     "iopub.execute_input": "2024-12-11T10:38:22.717064Z",
     "iopub.status.busy": "2024-12-11T10:38:22.716840Z",
     "iopub.status.idle": "2024-12-11T10:38:22.896939Z",
     "shell.execute_reply": "2024-12-11T10:38:22.896179Z",
     "shell.execute_reply.started": "2024-12-11T10:38:22.717040Z"
    },
    "id": "xk82WtJFCSCn",
    "trusted": true
   },
   "outputs": [],
   "source": [
    "train_features = encoding(train_data['Content'], train_data['Labels'])\n",
    "\n",
    "dev_features = encoding(dev_data['Content'], dev_data['Labels'])\n",
    "\n",
    "test_features = encoding(test_data['Content'], test_data['Labels'])"
   ]
  },
  {
   "cell_type": "code",
   "execution_count": 106,
   "metadata": {
    "execution": {
     "iopub.execute_input": "2024-12-11T10:38:22.898414Z",
     "iopub.status.busy": "2024-12-11T10:38:22.898126Z",
     "iopub.status.idle": "2024-12-11T10:38:22.907679Z",
     "shell.execute_reply": "2024-12-11T10:38:22.906889Z",
     "shell.execute_reply.started": "2024-12-11T10:38:22.898387Z"
    },
    "id": "BEhvqmdoCUiD",
    "trusted": true
   },
   "outputs": [],
   "source": [
    "# Evaluation metric\n",
    "\n",
    "import sys\n",
    "\n",
    "import os\n",
    "\n",
    "import os.path\n",
    "\n",
    "from scipy.stats import sem\n",
    "\n",
    "import numpy as np\n",
    "\n",
    "from ast import literal_eval\n",
    "\n",
    "import tensorflow as tf\n",
    "\n",
    "\n",
    "\n",
    "def em_score(y_true, y_pred):\n",
    "\n",
    "    MR = np.all(y_pred == y_true, axis=1).mean()\n",
    "\n",
    "    return MR\n",
    "\n",
    "\n",
    "\n",
    "def accuracy_score(y_true, y_pred):\n",
    "\n",
    "    temp = 0\n",
    "\n",
    "    for i in range(0, len(y_true)):\n",
    "\n",
    "        temp += sum(np.logical_and(y_true[i], y_pred[i])) / sum(np.logical_or(y_true[i], y_pred[i]))\n",
    "    \n",
    "    return temp / len(y_true)\n",
    "\n",
    "\n",
    "def f1_score(y_true, y_pred):\n",
    "\n",
    "    temp = 0\n",
    "\n",
    "    for i in range(len(y_true)):\n",
    "\n",
    "        if (sum(y_true[i]) == 0) and (sum(y_pred[i]) == 0):\n",
    "\n",
    "            continue\n",
    "\n",
    "        temp+= (2*sum(np.logical_and(y_true[i], y_pred[i]))) / (sum(y_true[i])+sum(y_pred[i]))\n",
    "\n",
    "    return temp/ len(y_true)\n",
    "\n",
    "def recall(y_true, y_pred):\n",
    "    temp = 0\n",
    "\n",
    "    for i in range(len(y_pred)):\n",
    "        if(sum(y_true[i]) == 0) and (sum(y_pred[i])==0):\n",
    "            continue\n",
    "        if sum(y_true[i]) == 0:\n",
    "            continue\n",
    "        temp += sum(np.logical_and(y_true[i],y_pred[i])) / sum(y_true[i])\n",
    "    return temp / len(y_pred)\n",
    "\n",
    "def precision(y_true, y_pred):\n",
    "    temp = 0\n",
    "\n",
    "    for i in range(len(y_pred)):\n",
    "        if(sum(y_true[i]) == 0) and (sum(y_pred[i])==0):\n",
    "            continue\n",
    "        if sum(y_pred[i]) ==0:\n",
    "            continue\n",
    "        temp += sum(np.logical_and(y_true[i],y_pred[i])) / sum(y_pred[i])\n",
    "    return temp / len(y_pred)"
   ]
  },
  {
   "cell_type": "code",
   "execution_count": 107,
   "metadata": {
    "execution": {
     "iopub.execute_input": "2024-12-11T10:38:22.908740Z",
     "iopub.status.busy": "2024-12-11T10:38:22.908518Z",
     "iopub.status.idle": "2024-12-11T10:38:25.809620Z",
     "shell.execute_reply": "2024-12-11T10:38:25.808939Z",
     "shell.execute_reply.started": "2024-12-11T10:38:22.908717Z"
    },
    "id": "a_BBaU8wCX1R",
    "trusted": true
   },
   "outputs": [
    {
     "data": {
      "application/vnd.jupyter.widget-view+json": {
       "model_id": "9d0b9237c7c54786965a51a5cedfc23c",
       "version_major": 2,
       "version_minor": 0
      },
      "text/plain": [
       "config.json:   0%|          | 0.00/644 [00:00<?, ?B/s]"
      ]
     },
     "metadata": {},
     "output_type": "display_data"
    },
    {
     "data": {
      "application/vnd.jupyter.widget-view+json": {
       "model_id": "dcacf3b05f354a6dab6d7881c6b6d9c1",
       "version_major": 2,
       "version_minor": 0
      },
      "text/plain": [
       "pytorch_model.bin:   0%|          | 0.00/390M [00:00<?, ?B/s]"
      ]
     },
     "metadata": {},
     "output_type": "display_data"
    },
    {
     "name": "stderr",
     "output_type": "stream",
     "text": [
      "Some weights of XLMRobertaModel were not initialized from the model checkpoint at uitnlp/visobert and are newly initialized: ['roberta.pooler.dense.bias', 'roberta.pooler.dense.weight']\n",
      "You should probably TRAIN this model on a down-stream task to be able to use it for predictions and inference.\n"
     ]
    }
   ],
   "source": [
    "from transformers import AutoModel\n",
    "\n",
    "#Thêm model mà yêu cầu\n",
    "model = AutoModel.from_pretrained('uitnlp/visobert')\n",
    "embedding_matrix = model.embeddings.word_embeddings.weight.detach().numpy()\n",
    "dim = embedding_matrix.shape[1]\n",
    "vocab = embedding_matrix.shape[0]\n"
   ]
  },
  {
   "cell_type": "code",
   "execution_count": 108,
   "metadata": {
    "execution": {
     "iopub.execute_input": "2024-12-11T10:38:25.811525Z",
     "iopub.status.busy": "2024-12-11T10:38:25.810795Z",
     "iopub.status.idle": "2024-12-11T10:38:26.030616Z",
     "shell.execute_reply": "2024-12-11T10:38:26.029742Z",
     "shell.execute_reply.started": "2024-12-11T10:38:25.811480Z"
    },
    "id": "9USLJ1t7DYmF",
    "trusted": true
   },
   "outputs": [
    {
     "name": "stderr",
     "output_type": "stream",
     "text": [
      "/opt/conda/lib/python3.10/site-packages/keras/src/layers/core/embedding.py:90: UserWarning: Argument `input_length` is deprecated. Just remove it.\n",
      "  warnings.warn(\n"
     ]
    },
    {
     "data": {
      "text/html": [
       "<pre style=\"white-space:pre;overflow-x:auto;line-height:normal;font-family:Menlo,'DejaVu Sans Mono',consolas,'Courier New',monospace\"><span style=\"font-weight: bold\">Model: \"functional_7\"</span>\n",
       "</pre>\n"
      ],
      "text/plain": [
       "\u001b[1mModel: \"functional_7\"\u001b[0m\n"
      ]
     },
     "metadata": {},
     "output_type": "display_data"
    },
    {
     "data": {
      "text/html": [
       "<pre style=\"white-space:pre;overflow-x:auto;line-height:normal;font-family:Menlo,'DejaVu Sans Mono',consolas,'Courier New',monospace\">┏━━━━━━━━━━━━━━━━━━━━━┳━━━━━━━━━━━━━━━━━━━┳━━━━━━━━━━━━┳━━━━━━━━━━━━━━━━━━━┓\n",
       "┃<span style=\"font-weight: bold\"> Layer (type)        </span>┃<span style=\"font-weight: bold\"> Output Shape      </span>┃<span style=\"font-weight: bold\">    Param # </span>┃<span style=\"font-weight: bold\"> Connected to      </span>┃\n",
       "┡━━━━━━━━━━━━━━━━━━━━━╇━━━━━━━━━━━━━━━━━━━╇━━━━━━━━━━━━╇━━━━━━━━━━━━━━━━━━━┩\n",
       "│ input_layer_3       │ (<span style=\"color: #00d7ff; text-decoration-color: #00d7ff\">None</span>, <span style=\"color: #00af00; text-decoration-color: #00af00\">50</span>)        │          <span style=\"color: #00af00; text-decoration-color: #00af00\">0</span> │ -                 │\n",
       "│ (<span style=\"color: #0087ff; text-decoration-color: #0087ff\">InputLayer</span>)        │                   │            │                   │\n",
       "├─────────────────────┼───────────────────┼────────────┼───────────────────┤\n",
       "│ embedding_3         │ (<span style=\"color: #00d7ff; text-decoration-color: #00d7ff\">None</span>, <span style=\"color: #00af00; text-decoration-color: #00af00\">50</span>, <span style=\"color: #00af00; text-decoration-color: #00af00\">768</span>)   │ <span style=\"color: #00af00; text-decoration-color: #00af00\">11,523,072</span> │ input_layer_3[<span style=\"color: #00af00; text-decoration-color: #00af00\">0</span>]… │\n",
       "│ (<span style=\"color: #0087ff; text-decoration-color: #0087ff\">Embedding</span>)         │                   │            │                   │\n",
       "├─────────────────────┼───────────────────┼────────────┼───────────────────┤\n",
       "│ spatial_dropout1d_3 │ (<span style=\"color: #00d7ff; text-decoration-color: #00d7ff\">None</span>, <span style=\"color: #00af00; text-decoration-color: #00af00\">50</span>, <span style=\"color: #00af00; text-decoration-color: #00af00\">768</span>)   │          <span style=\"color: #00af00; text-decoration-color: #00af00\">0</span> │ embedding_3[<span style=\"color: #00af00; text-decoration-color: #00af00\">0</span>][<span style=\"color: #00af00; text-decoration-color: #00af00\">0</span>] │\n",
       "│ (<span style=\"color: #0087ff; text-decoration-color: #0087ff\">SpatialDropout1D</span>)  │                   │            │                   │\n",
       "├─────────────────────┼───────────────────┼────────────┼───────────────────┤\n",
       "│ bidirectional_6     │ (<span style=\"color: #00d7ff; text-decoration-color: #00d7ff\">None</span>, <span style=\"color: #00af00; text-decoration-color: #00af00\">50</span>, <span style=\"color: #00af00; text-decoration-color: #00af00\">200</span>)   │    <span style=\"color: #00af00; text-decoration-color: #00af00\">522,000</span> │ spatial_dropout1… │\n",
       "│ (<span style=\"color: #0087ff; text-decoration-color: #0087ff\">Bidirectional</span>)     │                   │            │                   │\n",
       "├─────────────────────┼───────────────────┼────────────┼───────────────────┤\n",
       "│ bidirectional_7     │ (<span style=\"color: #00d7ff; text-decoration-color: #00d7ff\">None</span>, <span style=\"color: #00af00; text-decoration-color: #00af00\">50</span>, <span style=\"color: #00af00; text-decoration-color: #00af00\">200</span>)   │    <span style=\"color: #00af00; text-decoration-color: #00af00\">695,200</span> │ spatial_dropout1… │\n",
       "│ (<span style=\"color: #0087ff; text-decoration-color: #0087ff\">Bidirectional</span>)     │                   │            │                   │\n",
       "├─────────────────────┼───────────────────┼────────────┼───────────────────┤\n",
       "│ conv1d_6 (<span style=\"color: #0087ff; text-decoration-color: #0087ff\">Conv1D</span>)   │ (<span style=\"color: #00d7ff; text-decoration-color: #00d7ff\">None</span>, <span style=\"color: #00af00; text-decoration-color: #00af00\">49</span>, <span style=\"color: #00af00; text-decoration-color: #00af00\">50</span>)    │     <span style=\"color: #00af00; text-decoration-color: #00af00\">20,050</span> │ bidirectional_6[<span style=\"color: #00af00; text-decoration-color: #00af00\">…</span> │\n",
       "├─────────────────────┼───────────────────┼────────────┼───────────────────┤\n",
       "│ conv1d_7 (<span style=\"color: #0087ff; text-decoration-color: #0087ff\">Conv1D</span>)   │ (<span style=\"color: #00d7ff; text-decoration-color: #00d7ff\">None</span>, <span style=\"color: #00af00; text-decoration-color: #00af00\">49</span>, <span style=\"color: #00af00; text-decoration-color: #00af00\">50</span>)    │     <span style=\"color: #00af00; text-decoration-color: #00af00\">20,050</span> │ bidirectional_7[<span style=\"color: #00af00; text-decoration-color: #00af00\">…</span> │\n",
       "├─────────────────────┼───────────────────┼────────────┼───────────────────┤\n",
       "│ global_average_poo… │ (<span style=\"color: #00d7ff; text-decoration-color: #00d7ff\">None</span>, <span style=\"color: #00af00; text-decoration-color: #00af00\">50</span>)        │          <span style=\"color: #00af00; text-decoration-color: #00af00\">0</span> │ conv1d_6[<span style=\"color: #00af00; text-decoration-color: #00af00\">0</span>][<span style=\"color: #00af00; text-decoration-color: #00af00\">0</span>]    │\n",
       "│ (<span style=\"color: #0087ff; text-decoration-color: #0087ff\">GlobalAveragePool…</span> │                   │            │                   │\n",
       "├─────────────────────┼───────────────────┼────────────┼───────────────────┤\n",
       "│ global_max_pooling… │ (<span style=\"color: #00d7ff; text-decoration-color: #00d7ff\">None</span>, <span style=\"color: #00af00; text-decoration-color: #00af00\">50</span>)        │          <span style=\"color: #00af00; text-decoration-color: #00af00\">0</span> │ conv1d_6[<span style=\"color: #00af00; text-decoration-color: #00af00\">0</span>][<span style=\"color: #00af00; text-decoration-color: #00af00\">0</span>]    │\n",
       "│ (<span style=\"color: #0087ff; text-decoration-color: #0087ff\">GlobalMaxPooling1…</span> │                   │            │                   │\n",
       "├─────────────────────┼───────────────────┼────────────┼───────────────────┤\n",
       "│ global_average_poo… │ (<span style=\"color: #00d7ff; text-decoration-color: #00d7ff\">None</span>, <span style=\"color: #00af00; text-decoration-color: #00af00\">50</span>)        │          <span style=\"color: #00af00; text-decoration-color: #00af00\">0</span> │ conv1d_7[<span style=\"color: #00af00; text-decoration-color: #00af00\">0</span>][<span style=\"color: #00af00; text-decoration-color: #00af00\">0</span>]    │\n",
       "│ (<span style=\"color: #0087ff; text-decoration-color: #0087ff\">GlobalAveragePool…</span> │                   │            │                   │\n",
       "├─────────────────────┼───────────────────┼────────────┼───────────────────┤\n",
       "│ global_max_pooling… │ (<span style=\"color: #00d7ff; text-decoration-color: #00d7ff\">None</span>, <span style=\"color: #00af00; text-decoration-color: #00af00\">50</span>)        │          <span style=\"color: #00af00; text-decoration-color: #00af00\">0</span> │ conv1d_7[<span style=\"color: #00af00; text-decoration-color: #00af00\">0</span>][<span style=\"color: #00af00; text-decoration-color: #00af00\">0</span>]    │\n",
       "│ (<span style=\"color: #0087ff; text-decoration-color: #0087ff\">GlobalMaxPooling1…</span> │                   │            │                   │\n",
       "├─────────────────────┼───────────────────┼────────────┼───────────────────┤\n",
       "│ concatenate_3       │ (<span style=\"color: #00d7ff; text-decoration-color: #00d7ff\">None</span>, <span style=\"color: #00af00; text-decoration-color: #00af00\">200</span>)       │          <span style=\"color: #00af00; text-decoration-color: #00af00\">0</span> │ global_average_p… │\n",
       "│ (<span style=\"color: #0087ff; text-decoration-color: #0087ff\">Concatenate</span>)       │                   │            │ global_max_pooli… │\n",
       "│                     │                   │            │ global_average_p… │\n",
       "│                     │                   │            │ global_max_pooli… │\n",
       "├─────────────────────┼───────────────────┼────────────┼───────────────────┤\n",
       "│ dense_3 (<span style=\"color: #0087ff; text-decoration-color: #0087ff\">Dense</span>)     │ (<span style=\"color: #00d7ff; text-decoration-color: #00d7ff\">None</span>, <span style=\"color: #00af00; text-decoration-color: #00af00\">15</span>)        │      <span style=\"color: #00af00; text-decoration-color: #00af00\">3,015</span> │ concatenate_3[<span style=\"color: #00af00; text-decoration-color: #00af00\">0</span>]… │\n",
       "└─────────────────────┴───────────────────┴────────────┴───────────────────┘\n",
       "</pre>\n"
      ],
      "text/plain": [
       "┏━━━━━━━━━━━━━━━━━━━━━┳━━━━━━━━━━━━━━━━━━━┳━━━━━━━━━━━━┳━━━━━━━━━━━━━━━━━━━┓\n",
       "┃\u001b[1m \u001b[0m\u001b[1mLayer (type)       \u001b[0m\u001b[1m \u001b[0m┃\u001b[1m \u001b[0m\u001b[1mOutput Shape     \u001b[0m\u001b[1m \u001b[0m┃\u001b[1m \u001b[0m\u001b[1m   Param #\u001b[0m\u001b[1m \u001b[0m┃\u001b[1m \u001b[0m\u001b[1mConnected to     \u001b[0m\u001b[1m \u001b[0m┃\n",
       "┡━━━━━━━━━━━━━━━━━━━━━╇━━━━━━━━━━━━━━━━━━━╇━━━━━━━━━━━━╇━━━━━━━━━━━━━━━━━━━┩\n",
       "│ input_layer_3       │ (\u001b[38;5;45mNone\u001b[0m, \u001b[38;5;34m50\u001b[0m)        │          \u001b[38;5;34m0\u001b[0m │ -                 │\n",
       "│ (\u001b[38;5;33mInputLayer\u001b[0m)        │                   │            │                   │\n",
       "├─────────────────────┼───────────────────┼────────────┼───────────────────┤\n",
       "│ embedding_3         │ (\u001b[38;5;45mNone\u001b[0m, \u001b[38;5;34m50\u001b[0m, \u001b[38;5;34m768\u001b[0m)   │ \u001b[38;5;34m11,523,072\u001b[0m │ input_layer_3[\u001b[38;5;34m0\u001b[0m]… │\n",
       "│ (\u001b[38;5;33mEmbedding\u001b[0m)         │                   │            │                   │\n",
       "├─────────────────────┼───────────────────┼────────────┼───────────────────┤\n",
       "│ spatial_dropout1d_3 │ (\u001b[38;5;45mNone\u001b[0m, \u001b[38;5;34m50\u001b[0m, \u001b[38;5;34m768\u001b[0m)   │          \u001b[38;5;34m0\u001b[0m │ embedding_3[\u001b[38;5;34m0\u001b[0m][\u001b[38;5;34m0\u001b[0m] │\n",
       "│ (\u001b[38;5;33mSpatialDropout1D\u001b[0m)  │                   │            │                   │\n",
       "├─────────────────────┼───────────────────┼────────────┼───────────────────┤\n",
       "│ bidirectional_6     │ (\u001b[38;5;45mNone\u001b[0m, \u001b[38;5;34m50\u001b[0m, \u001b[38;5;34m200\u001b[0m)   │    \u001b[38;5;34m522,000\u001b[0m │ spatial_dropout1… │\n",
       "│ (\u001b[38;5;33mBidirectional\u001b[0m)     │                   │            │                   │\n",
       "├─────────────────────┼───────────────────┼────────────┼───────────────────┤\n",
       "│ bidirectional_7     │ (\u001b[38;5;45mNone\u001b[0m, \u001b[38;5;34m50\u001b[0m, \u001b[38;5;34m200\u001b[0m)   │    \u001b[38;5;34m695,200\u001b[0m │ spatial_dropout1… │\n",
       "│ (\u001b[38;5;33mBidirectional\u001b[0m)     │                   │            │                   │\n",
       "├─────────────────────┼───────────────────┼────────────┼───────────────────┤\n",
       "│ conv1d_6 (\u001b[38;5;33mConv1D\u001b[0m)   │ (\u001b[38;5;45mNone\u001b[0m, \u001b[38;5;34m49\u001b[0m, \u001b[38;5;34m50\u001b[0m)    │     \u001b[38;5;34m20,050\u001b[0m │ bidirectional_6[\u001b[38;5;34m…\u001b[0m │\n",
       "├─────────────────────┼───────────────────┼────────────┼───────────────────┤\n",
       "│ conv1d_7 (\u001b[38;5;33mConv1D\u001b[0m)   │ (\u001b[38;5;45mNone\u001b[0m, \u001b[38;5;34m49\u001b[0m, \u001b[38;5;34m50\u001b[0m)    │     \u001b[38;5;34m20,050\u001b[0m │ bidirectional_7[\u001b[38;5;34m…\u001b[0m │\n",
       "├─────────────────────┼───────────────────┼────────────┼───────────────────┤\n",
       "│ global_average_poo… │ (\u001b[38;5;45mNone\u001b[0m, \u001b[38;5;34m50\u001b[0m)        │          \u001b[38;5;34m0\u001b[0m │ conv1d_6[\u001b[38;5;34m0\u001b[0m][\u001b[38;5;34m0\u001b[0m]    │\n",
       "│ (\u001b[38;5;33mGlobalAveragePool…\u001b[0m │                   │            │                   │\n",
       "├─────────────────────┼───────────────────┼────────────┼───────────────────┤\n",
       "│ global_max_pooling… │ (\u001b[38;5;45mNone\u001b[0m, \u001b[38;5;34m50\u001b[0m)        │          \u001b[38;5;34m0\u001b[0m │ conv1d_6[\u001b[38;5;34m0\u001b[0m][\u001b[38;5;34m0\u001b[0m]    │\n",
       "│ (\u001b[38;5;33mGlobalMaxPooling1…\u001b[0m │                   │            │                   │\n",
       "├─────────────────────┼───────────────────┼────────────┼───────────────────┤\n",
       "│ global_average_poo… │ (\u001b[38;5;45mNone\u001b[0m, \u001b[38;5;34m50\u001b[0m)        │          \u001b[38;5;34m0\u001b[0m │ conv1d_7[\u001b[38;5;34m0\u001b[0m][\u001b[38;5;34m0\u001b[0m]    │\n",
       "│ (\u001b[38;5;33mGlobalAveragePool…\u001b[0m │                   │            │                   │\n",
       "├─────────────────────┼───────────────────┼────────────┼───────────────────┤\n",
       "│ global_max_pooling… │ (\u001b[38;5;45mNone\u001b[0m, \u001b[38;5;34m50\u001b[0m)        │          \u001b[38;5;34m0\u001b[0m │ conv1d_7[\u001b[38;5;34m0\u001b[0m][\u001b[38;5;34m0\u001b[0m]    │\n",
       "│ (\u001b[38;5;33mGlobalMaxPooling1…\u001b[0m │                   │            │                   │\n",
       "├─────────────────────┼───────────────────┼────────────┼───────────────────┤\n",
       "│ concatenate_3       │ (\u001b[38;5;45mNone\u001b[0m, \u001b[38;5;34m200\u001b[0m)       │          \u001b[38;5;34m0\u001b[0m │ global_average_p… │\n",
       "│ (\u001b[38;5;33mConcatenate\u001b[0m)       │                   │            │ global_max_pooli… │\n",
       "│                     │                   │            │ global_average_p… │\n",
       "│                     │                   │            │ global_max_pooli… │\n",
       "├─────────────────────┼───────────────────┼────────────┼───────────────────┤\n",
       "│ dense_3 (\u001b[38;5;33mDense\u001b[0m)     │ (\u001b[38;5;45mNone\u001b[0m, \u001b[38;5;34m15\u001b[0m)        │      \u001b[38;5;34m3,015\u001b[0m │ concatenate_3[\u001b[38;5;34m0\u001b[0m]… │\n",
       "└─────────────────────┴───────────────────┴────────────┴───────────────────┘\n"
      ]
     },
     "metadata": {},
     "output_type": "display_data"
    },
    {
     "data": {
      "text/html": [
       "<pre style=\"white-space:pre;overflow-x:auto;line-height:normal;font-family:Menlo,'DejaVu Sans Mono',consolas,'Courier New',monospace\"><span style=\"font-weight: bold\"> Total params: </span><span style=\"color: #00af00; text-decoration-color: #00af00\">12,783,387</span> (48.76 MB)\n",
       "</pre>\n"
      ],
      "text/plain": [
       "\u001b[1m Total params: \u001b[0m\u001b[38;5;34m12,783,387\u001b[0m (48.76 MB)\n"
      ]
     },
     "metadata": {},
     "output_type": "display_data"
    },
    {
     "data": {
      "text/html": [
       "<pre style=\"white-space:pre;overflow-x:auto;line-height:normal;font-family:Menlo,'DejaVu Sans Mono',consolas,'Courier New',monospace\"><span style=\"font-weight: bold\"> Trainable params: </span><span style=\"color: #00af00; text-decoration-color: #00af00\">12,783,387</span> (48.76 MB)\n",
       "</pre>\n"
      ],
      "text/plain": [
       "\u001b[1m Trainable params: \u001b[0m\u001b[38;5;34m12,783,387\u001b[0m (48.76 MB)\n"
      ]
     },
     "metadata": {},
     "output_type": "display_data"
    },
    {
     "data": {
      "text/html": [
       "<pre style=\"white-space:pre;overflow-x:auto;line-height:normal;font-family:Menlo,'DejaVu Sans Mono',consolas,'Courier New',monospace\"><span style=\"font-weight: bold\"> Non-trainable params: </span><span style=\"color: #00af00; text-decoration-color: #00af00\">0</span> (0.00 B)\n",
       "</pre>\n"
      ],
      "text/plain": [
       "\u001b[1m Non-trainable params: \u001b[0m\u001b[38;5;34m0\u001b[0m (0.00 B)\n"
      ]
     },
     "metadata": {},
     "output_type": "display_data"
    }
   ],
   "source": [
    "import tensorflow as tf\n",
    "\n",
    "from tensorflow import keras\n",
    "\n",
    "\n",
    "\n",
    "from keras.models import Sequential, Model\n",
    "\n",
    "\n",
    "\n",
    "from keras.layers import Dense, Concatenate, Bidirectional, GRU, Conv1D, GlobalAveragePooling1D, GlobalMaxPooling1D, SpatialDropout1D, Dropout, concatenate\n",
    "\n",
    "from keras.layers import Flatten, LSTM, Input\n",
    "\n",
    "from tensorflow.keras.layers import Embedding\n",
    "\n",
    "\n",
    "\n",
    "units = 100\n",
    "\n",
    "\n",
    "input = Input(shape = (max_len,))\n",
    "\n",
    "emb = Embedding(vocab, dim, weights=[embedding_matrix], input_length=max_len, trainable=True)(input)\n",
    "\n",
    "x1 = SpatialDropout1D(0.2)(emb)\n",
    "\n",
    "\n",
    "\n",
    "x = Bidirectional(GRU(units, return_sequences = True))(x1)\n",
    "\n",
    "x = Conv1D(int(units/2), kernel_size = 2, padding = \"valid\", kernel_initializer = \"he_uniform\")(x)\n",
    "\n",
    "\n",
    "\n",
    "y = Bidirectional(LSTM(units, return_sequences = True))(x1)\n",
    "\n",
    "y = Conv1D(int(units/2), kernel_size = 2, padding = \"valid\", kernel_initializer = \"he_uniform\")(y)\n",
    "\n",
    "\n",
    "\n",
    "avg_pool1 = GlobalAveragePooling1D()(x)\n",
    "\n",
    "max_pool1 = GlobalMaxPooling1D()(x)\n",
    "\n",
    "\n",
    "\n",
    "avg_pool2 = GlobalAveragePooling1D()(y)\n",
    "\n",
    "max_pool2 = GlobalMaxPooling1D()(y)\n",
    "\n",
    "\n",
    "\n",
    "\n",
    "\n",
    "x = Concatenate(axis=-1)([avg_pool1, max_pool1, avg_pool2, max_pool2])\n",
    "\n",
    "out = Dense(15, activation = \"sigmoid\")(x)\n",
    "\n",
    "\n",
    "\n",
    "model = Model(input, out)\n",
    "\n",
    "\n",
    "\n",
    "model.compile(loss='binary_crossentropy', optimizer='adam', metrics=['acc'])\n",
    "\n",
    "model.summary()"
   ]
  },
  {
   "cell_type": "code",
   "execution_count": 109,
   "metadata": {
    "execution": {
     "iopub.execute_input": "2024-12-11T10:38:26.031932Z",
     "iopub.status.busy": "2024-12-11T10:38:26.031661Z",
     "iopub.status.idle": "2024-12-11T10:39:10.094375Z",
     "shell.execute_reply": "2024-12-11T10:39:10.093567Z",
     "shell.execute_reply.started": "2024-12-11T10:38:26.031906Z"
    },
    "id": "25ro7rU0Dh4S",
    "trusted": true
   },
   "outputs": [
    {
     "name": "stdout",
     "output_type": "stream",
     "text": [
      "Epoch 1/20\n",
      "\u001b[1m55/55\u001b[0m \u001b[32m━━━━━━━━━━━━━━━━━━━━\u001b[0m\u001b[37m\u001b[0m \u001b[1m6s\u001b[0m 44ms/step - acc: 0.2944 - loss: 0.3176 - val_acc: 0.5612 - val_loss: 0.2163\n",
      "Epoch 2/20\n",
      "\u001b[1m55/55\u001b[0m \u001b[32m━━━━━━━━━━━━━━━━━━━━\u001b[0m\u001b[37m\u001b[0m \u001b[1m2s\u001b[0m 36ms/step - acc: 0.5790 - loss: 0.2101 - val_acc: 0.6062 - val_loss: 0.1913\n",
      "Epoch 3/20\n",
      "\u001b[1m55/55\u001b[0m \u001b[32m━━━━━━━━━━━━━━━━━━━━\u001b[0m\u001b[37m\u001b[0m \u001b[1m2s\u001b[0m 36ms/step - acc: 0.6559 - loss: 0.1765 - val_acc: 0.6087 - val_loss: 0.1843\n",
      "Epoch 4/20\n",
      "\u001b[1m55/55\u001b[0m \u001b[32m━━━━━━━━━━━━━━━━━━━━\u001b[0m\u001b[37m\u001b[0m \u001b[1m2s\u001b[0m 36ms/step - acc: 0.6982 - loss: 0.1480 - val_acc: 0.5595 - val_loss: 0.1965\n",
      "Epoch 5/20\n",
      "\u001b[1m55/55\u001b[0m \u001b[32m━━━━━━━━━━━━━━━━━━━━\u001b[0m\u001b[37m\u001b[0m \u001b[1m2s\u001b[0m 36ms/step - acc: 0.7148 - loss: 0.1254 - val_acc: 0.5670 - val_loss: 0.2042\n",
      "Epoch 6/20\n",
      "\u001b[1m55/55\u001b[0m \u001b[32m━━━━━━━━━━━━━━━━━━━━\u001b[0m\u001b[37m\u001b[0m \u001b[1m2s\u001b[0m 36ms/step - acc: 0.7369 - loss: 0.1015 - val_acc: 0.5454 - val_loss: 0.2253\n",
      "Epoch 7/20\n",
      "\u001b[1m55/55\u001b[0m \u001b[32m━━━━━━━━━━━━━━━━━━━━\u001b[0m\u001b[37m\u001b[0m \u001b[1m2s\u001b[0m 37ms/step - acc: 0.7601 - loss: 0.0856 - val_acc: 0.5129 - val_loss: 0.2515\n",
      "Epoch 8/20\n",
      "\u001b[1m55/55\u001b[0m \u001b[32m━━━━━━━━━━━━━━━━━━━━\u001b[0m\u001b[37m\u001b[0m \u001b[1m2s\u001b[0m 36ms/step - acc: 0.7715 - loss: 0.0714 - val_acc: 0.5487 - val_loss: 0.2767\n",
      "Epoch 9/20\n",
      "\u001b[1m55/55\u001b[0m \u001b[32m━━━━━━━━━━━━━━━━━━━━\u001b[0m\u001b[37m\u001b[0m \u001b[1m2s\u001b[0m 36ms/step - acc: 0.7806 - loss: 0.0578 - val_acc: 0.5162 - val_loss: 0.3061\n",
      "Epoch 10/20\n",
      "\u001b[1m55/55\u001b[0m \u001b[32m━━━━━━━━━━━━━━━━━━━━\u001b[0m\u001b[37m\u001b[0m \u001b[1m2s\u001b[0m 36ms/step - acc: 0.7684 - loss: 0.0477 - val_acc: 0.4280 - val_loss: 0.3367\n",
      "Epoch 11/20\n",
      "\u001b[1m55/55\u001b[0m \u001b[32m━━━━━━━━━━━━━━━━━━━━\u001b[0m\u001b[37m\u001b[0m \u001b[1m2s\u001b[0m 36ms/step - acc: 0.7563 - loss: 0.0388 - val_acc: 0.4829 - val_loss: 0.3622\n",
      "Epoch 12/20\n",
      "\u001b[1m55/55\u001b[0m \u001b[32m━━━━━━━━━━━━━━━━━━━━\u001b[0m\u001b[37m\u001b[0m \u001b[1m2s\u001b[0m 36ms/step - acc: 0.7488 - loss: 0.0324 - val_acc: 0.4638 - val_loss: 0.3885\n",
      "Epoch 13/20\n",
      "\u001b[1m55/55\u001b[0m \u001b[32m━━━━━━━━━━━━━━━━━━━━\u001b[0m\u001b[37m\u001b[0m \u001b[1m2s\u001b[0m 36ms/step - acc: 0.7675 - loss: 0.0274 - val_acc: 0.4863 - val_loss: 0.4189\n",
      "Epoch 14/20\n",
      "\u001b[1m55/55\u001b[0m \u001b[32m━━━━━━━━━━━━━━━━━━━━\u001b[0m\u001b[37m\u001b[0m \u001b[1m2s\u001b[0m 36ms/step - acc: 0.7581 - loss: 0.0230 - val_acc: 0.4846 - val_loss: 0.4462\n",
      "Epoch 15/20\n",
      "\u001b[1m55/55\u001b[0m \u001b[32m━━━━━━━━━━━━━━━━━━━━\u001b[0m\u001b[37m\u001b[0m \u001b[1m2s\u001b[0m 36ms/step - acc: 0.7549 - loss: 0.0199 - val_acc: 0.4813 - val_loss: 0.4673\n",
      "Epoch 16/20\n",
      "\u001b[1m55/55\u001b[0m \u001b[32m━━━━━━━━━━━━━━━━━━━━\u001b[0m\u001b[37m\u001b[0m \u001b[1m2s\u001b[0m 36ms/step - acc: 0.7535 - loss: 0.0181 - val_acc: 0.4530 - val_loss: 0.4890\n",
      "Epoch 17/20\n",
      "\u001b[1m55/55\u001b[0m \u001b[32m━━━━━━━━━━━━━━━━━━━━\u001b[0m\u001b[37m\u001b[0m \u001b[1m2s\u001b[0m 36ms/step - acc: 0.7542 - loss: 0.0161 - val_acc: 0.4571 - val_loss: 0.5188\n",
      "Epoch 18/20\n",
      "\u001b[1m55/55\u001b[0m \u001b[32m━━━━━━━━━━━━━━━━━━━━\u001b[0m\u001b[37m\u001b[0m \u001b[1m2s\u001b[0m 36ms/step - acc: 0.7373 - loss: 0.0167 - val_acc: 0.4604 - val_loss: 0.5352\n",
      "Epoch 19/20\n",
      "\u001b[1m55/55\u001b[0m \u001b[32m━━━━━━━━━━━━━━━━━━━━\u001b[0m\u001b[37m\u001b[0m \u001b[1m2s\u001b[0m 36ms/step - acc: 0.7435 - loss: 0.0137 - val_acc: 0.4513 - val_loss: 0.5430\n",
      "Epoch 20/20\n",
      "\u001b[1m55/55\u001b[0m \u001b[32m━━━━━━━━━━━━━━━━━━━━\u001b[0m\u001b[37m\u001b[0m \u001b[1m2s\u001b[0m 36ms/step - acc: 0.7381 - loss: 0.0133 - val_acc: 0.4380 - val_loss: 0.5640\n"
     ]
    },
    {
     "data": {
      "text/plain": [
       "<keras.src.callbacks.history.History at 0x7bb1f43296f0>"
      ]
     },
     "execution_count": 109,
     "metadata": {},
     "output_type": "execute_result"
    }
   ],
   "source": [
    "model.fit(train_features[0].astype(np.float32), train_features[1], validation_data=(dev_features[0].astype(np.float32), dev_features[1]),\n",
    "\n",
    "          batch_size=128, epochs=20, verbose=True)"
   ]
  },
  {
   "cell_type": "code",
   "execution_count": 110,
   "metadata": {
    "execution": {
     "iopub.execute_input": "2024-12-11T10:39:10.095888Z",
     "iopub.status.busy": "2024-12-11T10:39:10.095574Z",
     "iopub.status.idle": "2024-12-11T10:39:11.114033Z",
     "shell.execute_reply": "2024-12-11T10:39:11.113066Z",
     "shell.execute_reply.started": "2024-12-11T10:39:10.095856Z"
    },
    "id": "JQnNR7mvEcl0",
    "trusted": true
   },
   "outputs": [
    {
     "name": "stdout",
     "output_type": "stream",
     "text": [
      "\u001b[1m57/57\u001b[0m \u001b[32m━━━━━━━━━━━━━━━━━━━━\u001b[0m\u001b[37m\u001b[0m \u001b[1m1s\u001b[0m 12ms/step\n"
     ]
    }
   ],
   "source": [
    "y_test = model.predict(test_features[0])"
   ]
  },
  {
   "cell_type": "code",
   "execution_count": 111,
   "metadata": {
    "execution": {
     "iopub.execute_input": "2024-12-11T10:39:11.115852Z",
     "iopub.status.busy": "2024-12-11T10:39:11.115478Z",
     "iopub.status.idle": "2024-12-11T10:39:11.189754Z",
     "shell.execute_reply": "2024-12-11T10:39:11.189134Z",
     "shell.execute_reply.started": "2024-12-11T10:39:11.115811Z"
    },
    "id": "Z4amMyVkEih0",
    "trusted": true
   },
   "outputs": [],
   "source": [
    "y_test_pred_new = []\n",
    "\n",
    "\n",
    "\n",
    "for y in y_test:\n",
    "\n",
    "    lb = []\n",
    "\n",
    "    for i in range(0, len(y)):\n",
    "\n",
    "        if y[i] >= 0.5:\n",
    "\n",
    "            lb.append(1)\n",
    "\n",
    "        else:\n",
    "\n",
    "            lb.append(0)\n",
    "\n",
    "    y_test_pred_new.append(lb)\n",
    "\n",
    "#Aspect\n",
    "new_pred = []\n",
    "\n",
    "new_y = []\n",
    "\n",
    "for k in range(len(y_test_pred_new)):\n",
    "    result = np.sum(np.array(y_test_pred_new[k]).reshape(-1,3),axis = 1)\n",
    "    new_pred.append(result)\n",
    "\n",
    "\n",
    "for k in range(len(test_features[1])):\n",
    "    result = np.sum(test_features[1][k].reshape(-1,3),axis = 1)\n",
    "    new_y.append(result)"
   ]
  },
  {
   "cell_type": "code",
   "execution_count": 112,
   "metadata": {
    "execution": {
     "iopub.execute_input": "2024-12-11T10:39:11.191196Z",
     "iopub.status.busy": "2024-12-11T10:39:11.190829Z",
     "iopub.status.idle": "2024-12-11T10:39:11.261825Z",
     "shell.execute_reply": "2024-12-11T10:39:11.261057Z",
     "shell.execute_reply.started": "2024-12-11T10:39:11.191135Z"
    },
    "id": "MNfanNUKEkFr",
    "trusted": true
   },
   "outputs": [
    {
     "name": "stdout",
     "output_type": "stream",
     "text": [
      "Aspect + Polarity\n",
      "\n",
      "F1 = 38.06481481481468\n",
      "Precision = 46.33333333333333\n",
      "Recall = 34.12962962962963\n"
     ]
    }
   ],
   "source": [
    "print(\"Aspect + Polarity\\n\")\n",
    "\n",
    "print(\"F1 = {}\".format(f1_score(test_features[1], y_test_pred_new) * 100))\n",
    "\n",
    "print(\"Precision = {}\".format(precision(test_features[1], y_test_pred_new)* 100))\n",
    "\n",
    "print(\"Recall = {}\".format(recall(test_features[1], y_test_pred_new)* 100))"
   ]
  },
  {
   "cell_type": "code",
   "execution_count": 113,
   "metadata": {
    "execution": {
     "iopub.execute_input": "2024-12-11T10:39:11.263683Z",
     "iopub.status.busy": "2024-12-11T10:39:11.263019Z",
     "iopub.status.idle": "2024-12-11T10:39:11.313609Z",
     "shell.execute_reply": "2024-12-11T10:39:11.312934Z",
     "shell.execute_reply.started": "2024-12-11T10:39:11.263639Z"
    },
    "trusted": true
   },
   "outputs": [
    {
     "name": "stdout",
     "output_type": "stream",
     "text": [
      "Aspect\n",
      "\n",
      "F1 = 59.70925925925891\n",
      "Precision = 72.44444444444444\n",
      "Recall = 53.65740740740744\n"
     ]
    }
   ],
   "source": [
    "print(\"Aspect\\n\")\n",
    "\n",
    "print(\"F1 = {}\".format(f1_score(new_y, new_pred) * 100))\n",
    "\n",
    "print(\"Precision = {}\".format(precision(new_y, new_pred) * 100))\n",
    "\n",
    "print(\"Recall = {}\".format(recall(new_y, new_pred) * 100))"
   ]
  },
  {
   "cell_type": "code",
   "execution_count": null,
   "metadata": {
    "trusted": true
   },
   "outputs": [],
   "source": []
  }
 ],
 "metadata": {
  "colab": {
   "provenance": []
  },
  "kaggle": {
   "accelerator": "gpu",
   "dataSources": [
    {
     "datasetId": 6269964,
     "sourceId": 10155409,
     "sourceType": "datasetVersion"
    },
    {
     "datasetId": 6269970,
     "sourceId": 10155417,
     "sourceType": "datasetVersion"
    },
    {
     "datasetId": 6269975,
     "sourceId": 10155425,
     "sourceType": "datasetVersion"
    }
   ],
   "dockerImageVersionId": 30805,
   "isGpuEnabled": true,
   "isInternetEnabled": true,
   "language": "python",
   "sourceType": "notebook"
  },
  "kernelspec": {
   "display_name": "Python 3",
   "language": "python",
   "name": "python3"
  },
  "language_info": {
   "codemirror_mode": {
    "name": "ipython",
    "version": 3
   },
   "file_extension": ".py",
   "mimetype": "text/x-python",
   "name": "python",
   "nbconvert_exporter": "python",
   "pygments_lexer": "ipython3",
   "version": "3.10.14"
  }
 },
 "nbformat": 4,
 "nbformat_minor": 4
}
